{
  "nbformat": 4,
  "nbformat_minor": 0,
  "metadata": {
    "colab": {
      "provenance": [],
      "authorship_tag": "ABX9TyMFmWLVHcSbj0iFeMSWQnPX",
      "include_colab_link": true
    },
    "kernelspec": {
      "name": "python3",
      "display_name": "Python 3"
    },
    "language_info": {
      "name": "python"
    }
  },
  "cells": [
    {
      "cell_type": "markdown",
      "metadata": {
        "id": "view-in-github",
        "colab_type": "text"
      },
      "source": [
        "<a href=\"https://colab.research.google.com/github/RakeshMishra26mgh/Dsa3/blob/main/Dsa3.ipynb\" target=\"_parent\"><img src=\"https://colab.research.google.com/assets/colab-badge.svg\" alt=\"Open In Colab\"/></a>"
      ]
    },
    {
      "cell_type": "markdown",
      "source": [
        "Answer 1:-"
      ],
      "metadata": {
        "id": "qDwsXSiCdUAg"
      }
    },
    {
      "cell_type": "code",
      "source": [
        "def threeSumClosest(nums, target):\n",
        "    nums.sort()\n",
        "    closest_sum = float('inf')\n",
        "    for i in range(len(nums) - 2):\n",
        "        left = i + 1\n",
        "        right = len(nums) - 1\n",
        "        while left < right:\n",
        "            current_sum = nums[i] + nums[left] + nums[right]\n",
        "            if abs(target - current_sum) < abs(target - closest_sum):\n",
        "                closest_sum = current_sum\n",
        "            if current_sum > target:\n",
        "                right -= 1\n",
        "            else:\n",
        "                left += 1\n",
        "    return closest_sum\n",
        "\n",
        "nums = list(map(int, input(\"Enter the elements of the array separated by space: \").split()))\n",
        "target = int(input(\"Enter the target sum: \"))\n",
        "print(threeSumClosest(nums, target))\n"
      ],
      "metadata": {
        "id": "k61z449TdW_P"
      },
      "execution_count": null,
      "outputs": []
    },
    {
      "cell_type": "markdown",
      "source": [
        "Answer 2:-"
      ],
      "metadata": {
        "id": "iYxzJ6_LebG3"
      }
    },
    {
      "cell_type": "code",
      "source": [
        "def fourSum(nums, target):\n",
        "    nums.sort()\n",
        "    result = []\n",
        "    for a in range(len(nums) - 3):\n",
        "        if a > 0 and nums[a] == nums[a-1]:\n",
        "            continue\n",
        "        for b in range(a+1, len(nums) - 2):\n",
        "            if b > a+1 and nums[b] == nums[b-1]:\n",
        "                continue\n",
        "            c = b + 1\n",
        "            d = len(nums) - 1\n",
        "            while c < d:\n",
        "                sum = nums[a] + nums[b] + nums[c] + nums[d]\n",
        "                if sum == target:\n",
        "                    result.append([nums[a], nums[b], nums[c], nums[d]])\n",
        "                    while c < d and nums[c] == nums[c+1]:\n",
        "                        c += 1\n",
        "                    while c < d and nums[d] == nums[d-1]:\n",
        "                        d -= 1\n",
        "                    c += 1\n",
        "                    d -= 1\n",
        "                elif sum < target:\n",
        "                    c += 1\n",
        "                else:\n",
        "                    d -= 1\n",
        "    return result\n",
        "\n",
        "nums = list(map(int, input(\"Enter the array of integers separated by space: \").split()))\n",
        "target = int(input(\"Enter the target integer: \"))\n",
        "print(fourSum(nums, target))\n"
      ],
      "metadata": {
        "id": "VCp1t9Tqed_B"
      },
      "execution_count": null,
      "outputs": []
    },
    {
      "cell_type": "markdown",
      "source": [
        "Answer 3:-"
      ],
      "metadata": {
        "id": "onwnFCF3ge-l"
      }
    },
    {
      "cell_type": "code",
      "source": [
        "def next_permutation(nums):\n",
        "    n = len(nums)\n",
        "    k = n - 2\n",
        "    while k >= 0 and nums[k] >= nums[k + 1]:\n",
        "        k -= 1\n",
        "    if k == -1:\n",
        "        nums.reverse()\n",
        "        return nums\n",
        "    l = n - 1\n",
        "    while l > k and nums[l] <= nums[k]:\n",
        "        l -= 1\n",
        "    nums[k], nums[l] = nums[l], nums[k]\n",
        "    left = k + 1\n",
        "    right = n - 1\n",
        "    while left < right:\n",
        "        nums[left], nums[right] = nums[right], nums[left]\n",
        "        left += 1\n",
        "        right -= 1\n",
        "    return nums\n",
        "\n",
        "nums = list(map(int,input(\"enter the list of elements with only spaces between the elements :\").split()))\n",
        "print(next_permutation(nums))\n"
      ],
      "metadata": {
        "id": "QAxwxq7Tghlm"
      },
      "execution_count": null,
      "outputs": []
    },
    {
      "cell_type": "markdown",
      "source": [
        "Answer 4 :-"
      ],
      "metadata": {
        "id": "Zu-wEdx9hSs1"
      }
    },
    {
      "cell_type": "code",
      "source": [
        "def searchInsert(nums, target):\n",
        "    low = 0\n",
        "    high = len(nums) - 1\n",
        "    while low <= high:\n",
        "        mid = (low + high) // 2\n",
        "        if nums[mid] == target:\n",
        "            return mid\n",
        "        elif target < nums[mid]:\n",
        "            high = mid - 1\n",
        "        else:\n",
        "            low = mid + 1\n",
        "    return low\n",
        "nums = list(map(int, input(\"Enter the sorted array of distinct integers separated by space: \").split()))\n",
        "target = int(input(\"Enter the target integer: \"))\n",
        "print(searchInsert(nums, target))\n"
      ],
      "metadata": {
        "id": "RDMWRDLT2wJe"
      },
      "execution_count": null,
      "outputs": []
    },
    {
      "cell_type": "markdown",
      "source": [
        "Answer 5:-"
      ],
      "metadata": {
        "id": "uNezeMwKifgW"
      }
    },
    {
      "cell_type": "code",
      "source": [
        "def plusOne(digits):\n",
        "    for i in range(len(digits)-1, -1, -1):\n",
        "        if digits[i] < 9:\n",
        "            digits[i] += 1\n",
        "            return digits\n",
        "        else:\n",
        "            digits[i] = 0\n",
        "    return [1] + digits\n",
        "\n",
        "digits = list(map(int,input (\"enter the world:\").split()))\n",
        "print(plusOne(digits)) \n"
      ],
      "metadata": {
        "id": "WcrmpBACii5I"
      },
      "execution_count": null,
      "outputs": []
    },
    {
      "cell_type": "markdown",
      "source": [
        "Answer 6:-"
      ],
      "metadata": {
        "id": "tcHtqS2yk-WW"
      }
    },
    {
      "cell_type": "code",
      "source": [
        "def singleNumber(nums):\n",
        "    if not nums:\n",
        "        return None\n",
        "    if len(nums) == 1:\n",
        "        return nums[0]\n",
        "    result = 0\n",
        "    for num in nums:\n",
        "        result ^= num\n",
        "    if result == 0:\n",
        "        return None\n",
        "    return result\n",
        "nums = list(map(int, input(\"Enter the array of integers separated by space: \").split()))\n",
        "print(singleNumber(nums))\n"
      ],
      "metadata": {
        "id": "GAeEhftF8I5o"
      },
      "execution_count": null,
      "outputs": []
    },
    {
      "cell_type": "markdown",
      "source": [
        "Answer 7:-"
      ],
      "metadata": {
        "id": "pErC7Ytjl33R"
      }
    },
    {
      "cell_type": "code",
      "source": [
        "def findMissingRanges(nums, lower, upper):\n",
        "    def formatRange(lower, upper):\n",
        "        if lower == upper:\n",
        "            return str(lower)\n",
        "        else:\n",
        "            return str(lower) , str(upper)\n",
        "\n",
        "    missingRanges = []\n",
        "    prev = lower - 1\n",
        "    for i in range(len(nums) + 1):\n",
        "        curr = nums[i] if i < len(nums) else upper + 1\n",
        "        if prev + 1 <= curr - 1:\n",
        "            missingRanges.append(formatRange(prev + 1, curr - 1))\n",
        "        prev = curr\n",
        "    return missingRanges\n",
        "\n",
        "nums = list(map(int,input (\"enter the world:\").split()))\n",
        "lower = int(input(\"enter the lower val :\"))\n",
        "upper = int(input(\"enter the upper val :\"))\n",
        "print(findMissingRanges(nums, lower, upper)) \n"
      ],
      "metadata": {
        "id": "36DQ2VU0l7i9"
      },
      "execution_count": null,
      "outputs": []
    },
    {
      "cell_type": "markdown",
      "source": [
        "Answer 8:-"
      ],
      "metadata": {
        "id": "KEI_1iR4nPWz"
      }
    },
    {
      "cell_type": "code",
      "source": [
        "def canAttendMeetings(intervals):\n",
        "    intervals.sort(key=lambda x: x[0])\n",
        "    for i in range(1, len(intervals)):\n",
        "        if intervals[i][0] < intervals[i-1][1]:\n",
        "            return False\n",
        "    return True\n",
        "\n",
        "n = int(input(\"Enter the number of meetings: \"))\n",
        "intervals = []\n",
        "for i in range(n):\n",
        "    start = int(input(\"Enter the start time of meeting \" + str(i+1) + \": \"))\n",
        "    end = int(input(\"Enter the end time of meeting \" + str(i+1) + \": \"))\n",
        "    intervals.append([start, end])\n",
        "\n",
        "print(canAttendMeetings(intervals))\n"
      ],
      "metadata": {
        "id": "x9EoxHsBnUJC"
      },
      "execution_count": null,
      "outputs": []
    }
  ]
}